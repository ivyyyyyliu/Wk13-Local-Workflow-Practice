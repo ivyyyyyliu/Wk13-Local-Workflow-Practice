{
 "cells": [
  {
   "cell_type": "markdown",
   "id": "3fc97cd2",
   "metadata": {},
   "source": [
    "# Import libraries"
   ]
  },
  {
   "cell_type": "code",
   "execution_count": null,
   "id": "93cebc96",
   "metadata": {},
   "outputs": [],
   "source": [
    "import pandas as pd\n",
    "import seaborn as sns\n",
    "import matplotlib.pyplot as plt"
   ]
  },
  {
   "cell_type": "markdown",
   "id": "c3d30dc3",
   "metadata": {},
   "source": [
    "# Reading the data from file"
   ]
  },
  {
   "cell_type": "code",
   "execution_count": null,
   "id": "0cf3cb66",
   "metadata": {},
   "outputs": [],
   "source": [
    "df = pd.read_csv('Data/data_science_salary_2021.csv')"
   ]
  },
  {
   "cell_type": "markdown",
   "id": "4698097b",
   "metadata": {},
   "source": [
    "## inspect the data\n"
   ]
  },
  {
   "cell_type": "code",
   "execution_count": null,
   "id": "df44a2d1",
   "metadata": {},
   "outputs": [],
   "source": [
    "df.info()\n",
    "df.head()"
   ]
  },
  {
   "cell_type": "markdown",
   "id": "228bb807",
   "metadata": {},
   "source": [
    "What is the mean 'Ave Salary(k)'according to \"job_title_sim\"?"
   ]
  },
  {
   "cell_type": "code",
   "execution_count": null,
   "id": "a1228aae",
   "metadata": {},
   "outputs": [],
   "source": []
  },
  {
   "cell_type": "code",
   "execution_count": null,
   "id": "bf15a9d3",
   "metadata": {},
   "outputs": [],
   "source": []
  }
 ],
 "metadata": {
  "kernelspec": {
   "display_name": "Python (dojo-env)",
   "language": "python",
   "name": "dojo-env"
  },
  "toc": {
   "base_numbering": 1,
   "nav_menu": {},
   "number_sections": false,
   "sideBar": true,
   "skip_h1_title": false,
   "title_cell": "Table of Contents",
   "title_sidebar": "Contents",
   "toc_cell": false,
   "toc_position": {
    "height": "calc(100% - 180px)",
    "left": "10px",
    "top": "150px",
    "width": "186.667px"
   },
   "toc_section_display": true,
   "toc_window_display": true
  }
 },
 "nbformat": 4,
 "nbformat_minor": 5
}
